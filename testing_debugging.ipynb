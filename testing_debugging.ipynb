{
 "cells": [
  {
   "cell_type": "code",
   "execution_count": 1,
   "metadata": {},
   "outputs": [],
   "source": [
    "from ase.io import read, write\n",
    "from ase import Atoms\n",
    "import pickle\n",
    "from ocdata.core import Adsorbate, Slab, Bulk, AdsorbateSlabConfig\n",
    "import os\n",
    "import json\n",
    "import gzip"
   ]
  },
  {
   "cell_type": "code",
   "execution_count": 4,
   "metadata": {},
   "outputs": [],
   "source": [
    "\n",
    "class OCPInputGenerator():\n",
    "    def __init__(self, adsorbates_path, bulk_path, is_metal : bool, bulk_material_id: str, save_path = None):\n",
    "        self.adsorbates_path = adsorbates_path\n",
    "        self.bulk_path = bulk_path\n",
    "        self.bulk_material_id = bulk_material_id\n",
    "        self.is_metal = is_metal\n",
    "        self.save_path = save_path\n",
    "        self.adsorbates_info = {'d_H': {\"suffix\": \"-H\" ,\n",
    "                                       \"binding_index\":[0],\n",
    "                                        } ,\n",
    "                               'd_OH': {\"suffix\": \"-OH\",\n",
    "                                       \"binding_index\":[0],\n",
    "                                        }, \n",
    "                               'm_CO': {\"suffix\": \"-CO\",\n",
    "                                       \"binding_index\":[0],\n",
    "                                        },\n",
    "                               'd_OCH3':{\"suffix\": \"-OCH3\",\n",
    "                                       \"binding_index\":[4],\n",
    "                                        },\n",
    "                               'd_OCHO':{\"suffix\": \"-OCHO\",\n",
    "                                       \"binding_index\":[1],\n",
    "                                        }\n",
    "                               }\n",
    "        if self.save_path == None:\n",
    "            self.save_path = os.path.join(os.getcwd(), bulk_material_id)\n",
    "            os.makedirs(self.save_path, exist_ok=True)\n",
    "        pass\n",
    "    \n",
    "    \n",
    "    def update_adsorbates_info(self):\n",
    "        for adsorbate_dir, ads_info in self.adsorbates_info.items():\n",
    "            adsorbate_path = os.path.join(self.adsorbates_path, adsorbate_dir, 'vasprun.xml')\n",
    "            ads_atoms_obj = read(adsorbate_path)\n",
    "            ads_info['atoms_obj'] = ads_atoms_obj\n",
    "            ocp_adsorbate = Adsorbate(adsorbate_atoms=ads_atoms_obj,\n",
    "                                      adsorbate_binding_indices=ads_info['binding_index'])\n",
    "            ads_info['ocp_adsorbate'] = ocp_adsorbate\n",
    "        return self.adsorbates_info \n",
    "            \n",
    "    def create_ocp_slabs_from_bulk(self):\n",
    "        bulk_path = os.path.join(self.bulk_path,'vasprun.xml')\n",
    "        if os.path.exists(bulk_path):\n",
    "            bulk_atoms_obj = read(bulk_path)\n",
    "        else:\n",
    "            bulk_path = os.path.join(self.bulk_path, 'vasprun.xml.gz')\n",
    "            bulk_atoms_obj = read(bulk_path)\n",
    "        ocp_bulk = Bulk(bulk_atoms=bulk_atoms_obj)\n",
    "        slabs = Slab.from_bulk_get_all_slabs(bulk=ocp_bulk)\n",
    "        only_slabs_pickle = os.path.join(self.save_path, 'slabs.pkl')\n",
    "        with open(only_slabs_pickle, 'wb') as f:\n",
    "            pickle.dump(slabs, f)\n",
    "        return slabs\n",
    "    \n",
    "    def _name_for_adslab(self, slab, adslab_num, adsorbate_suffix):\n",
    "        miller = slab.millers\n",
    "        miller_str = ''.join(['+' + str(num) if num >= 0 else str(num) for num in miller])\n",
    "        inverted = 'T' if slab.top == True else 'F'\n",
    "        shift = str(slab.shift)[2:4]\n",
    "        adslab_filename = \"{}_{}_{}_{}_{}_{}.xyz\".format(self.bulk_material_id,\n",
    "                                            miller_str,\n",
    "                                            inverted,\n",
    "                                            shift, \n",
    "                                            adslab_num,\n",
    "                                            adsorbate_suffix)\n",
    "        return adslab_filename\n",
    "    \n",
    "    def create_and_save_all_adslabs(self):\n",
    "        slabs = self.create_ocp_slabs_from_bulk()\n",
    "        for slab in slabs:\n",
    "            for adsorbate_dir, ads_info in self.adsorbates_info.items():\n",
    "                adslabs = AdsorbateSlabConfig(slab=slab,\n",
    "                                              adsorbate=ads_info['ocp_adsorbate'],\n",
    "                                              mode='heuristic')\n",
    "                for adslab_num, adslab in enumerate(adslabs.atoms_list):\n",
    "                    save_filepath = os.path.join(self.save_path, \n",
    "                                                 self._name_for_adslab(slab,\n",
    "                                                                       adslab_num, \n",
    "                                                                       ads_info['suffix']))\n",
    "                    write(save_filepath, adslab, format='extxyz')    \n"
   ]
  },
  {
   "cell_type": "code",
   "execution_count": 5,
   "metadata": {},
   "outputs": [],
   "source": [
    "adsorbates_path = \"/scratch/project_2005750/adsorbants/ocp_ecut_450\"\n",
    "bulk_path = \"/scratch/project_2005750/bulks_opt/metals_rpbe/Pt_mp-126\"\n",
    "ocp_input = OCPInputGenerator(adsorbates_path=adsorbates_path, bulk_path=bulk_path, is_metal=False, bulk_material_id='Pt_mp-126')\n",
    "new_ads_infor = ocp_input.update_adsorbates_info()\n",
    "ocp_input.create_and_save_all_adslabs()"
   ]
  },
  {
   "cell_type": "code",
   "execution_count": 40,
   "metadata": {},
   "outputs": [],
   "source": [
    "new_ads_infor = ocp_input.update_adsorbates_info()"
   ]
  },
  {
   "cell_type": "code",
   "execution_count": 26,
   "metadata": {},
   "outputs": [
    {
     "name": "stdout",
     "output_type": "stream",
     "text": [
      "Bulk: (Pt)\n"
     ]
    }
   ],
   "source": [
    "ase_bulk, ocp_bulk = ocp_input.create_ocp_slabs_from_bulk()"
   ]
  },
  {
   "cell_type": "code",
   "execution_count": 16,
   "metadata": {},
   "outputs": [
    {
     "data": {
      "text/plain": [
       "'Pt'"
      ]
     },
     "execution_count": 16,
     "metadata": {},
     "output_type": "execute_result"
    }
   ],
   "source": [
    "ase_bulk.get_chemical_formula()"
   ]
  },
  {
   "cell_type": "code",
   "execution_count": 24,
   "metadata": {},
   "outputs": [],
   "source": [
    "slabs = Slab.from_bulk_get_all_slabs(bulk=ocp_bulk)"
   ]
  },
  {
   "cell_type": "code",
   "execution_count": 7,
   "metadata": {},
   "outputs": [
    {
     "ename": "AttributeError",
     "evalue": "'AdsorbateSlabConfig' object has no attribute 'list'",
     "output_type": "error",
     "traceback": [
      "\u001b[0;31m---------------------------------------------------------------------------\u001b[0m",
      "\u001b[0;31mAttributeError\u001b[0m                            Traceback (most recent call last)",
      "Cell \u001b[0;32mIn[7], line 1\u001b[0m\n\u001b[0;32m----> 1\u001b[0m ocp_input\u001b[39m.\u001b[39;49mcreate_and_save_all_adslabs()\n",
      "Cell \u001b[0;32mIn[5], line 73\u001b[0m, in \u001b[0;36mOCPInputGenerator.create_and_save_all_adslabs\u001b[0;34m(self)\u001b[0m\n\u001b[1;32m     69\u001b[0m \u001b[39mfor\u001b[39;00m adsorbate_dir, ads_info \u001b[39min\u001b[39;00m \u001b[39mself\u001b[39m\u001b[39m.\u001b[39madsorbates_info\u001b[39m.\u001b[39mitems():\n\u001b[1;32m     70\u001b[0m     adslabs \u001b[39m=\u001b[39m AdsorbateSlabConfig(slab\u001b[39m=\u001b[39mslab,\n\u001b[1;32m     71\u001b[0m                                   adsorbate\u001b[39m=\u001b[39mads_info[\u001b[39m'\u001b[39m\u001b[39mocp_adsorbate\u001b[39m\u001b[39m'\u001b[39m],\n\u001b[1;32m     72\u001b[0m                                   mode\u001b[39m=\u001b[39m\u001b[39m'\u001b[39m\u001b[39mheuristic\u001b[39m\u001b[39m'\u001b[39m)\n\u001b[0;32m---> 73\u001b[0m     \u001b[39mfor\u001b[39;00m adslab_num, adslab \u001b[39min\u001b[39;00m \u001b[39menumerate\u001b[39m(adslabs\u001b[39m.\u001b[39;49mlist):\n\u001b[1;32m     74\u001b[0m         save_filepath \u001b[39m=\u001b[39m os\u001b[39m.\u001b[39mpath\u001b[39m.\u001b[39mjoin(\u001b[39mself\u001b[39m\u001b[39m.\u001b[39msave_path, \u001b[39mself\u001b[39m\u001b[39m.\u001b[39m_name_for_adslab(slab, adslab_num) \u001b[39m+\u001b[39m \u001b[39m'\u001b[39m\u001b[39m.xyz\u001b[39m\u001b[39m'\u001b[39m)\n\u001b[1;32m     75\u001b[0m         write(save_filepath, adslab, \u001b[39mformat\u001b[39m\u001b[39m=\u001b[39m\u001b[39m'\u001b[39m\u001b[39mextxyz\u001b[39m\u001b[39m'\u001b[39m)\n",
      "\u001b[0;31mAttributeError\u001b[0m: 'AdsorbateSlabConfig' object has no attribute 'list'"
     ]
    }
   ],
   "source": []
  },
  {
   "cell_type": "code",
   "execution_count": null,
   "metadata": {},
   "outputs": [],
   "source": []
  }
 ],
 "metadata": {
  "kernelspec": {
   "display_name": "Python 3",
   "language": "python",
   "name": "python3"
  },
  "language_info": {
   "codemirror_mode": {
    "name": "ipython",
    "version": 3
   },
   "file_extension": ".py",
   "mimetype": "text/x-python",
   "name": "python",
   "nbconvert_exporter": "python",
   "pygments_lexer": "ipython3",
   "version": "3.9.16"
  },
  "orig_nbformat": 4
 },
 "nbformat": 4,
 "nbformat_minor": 2
}
